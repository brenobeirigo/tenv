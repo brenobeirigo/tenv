{
 "cells": [
  {
   "cell_type": "code",
   "execution_count": 27,
   "metadata": {},
   "outputs": [],
   "source": [
    "import os\n",
    "import requests\n",
    "\n",
    "def download_file(url, folder):\n",
    "    \"\"\"Download online file and save it.\n",
    "\n",
    "    Arguments:\n",
    "        url {String} -- Url to download\n",
    "        folder {String} -- Folder where files will be saved\n",
    "    \"\"\"\n",
    "    \n",
    "    # The last part of the url is the file name\n",
    "    file_name = f'{url.split(\"/\")[-1]}'\n",
    "\n",
    "    output_file = \"{}/{}\".format(folder, file_name)\n",
    "    \n",
    "    if os.path.exists(output_file):\n",
    "         print(\"\\nFile  '{}' already exists.\".format(output_file))\n",
    "    else:\n",
    "        # Download if file does not exist\n",
    "        print(\"Downloading {}...\".format(url))\n",
    "        r = requests.get(url, allow_redirects=True)\n",
    "        open(output_file, \"wb\").write(r.content)"
   ]
  },
  {
   "cell_type": "code",
   "execution_count": null,
   "metadata": {},
   "outputs": [
    {
     "name": "stdout",
     "output_type": "stream",
     "text": [
      "Loading  'o:/phd/nyc_trips//yellow_tripdata_2011-01.csv'\n",
      "Downloading https://s3.amazonaws.com/nyc-tlc/trip+data/yellow_tripdata_2011-01.csv\n"
     ]
    }
   ],
   "source": [
    "import pandas as pd\n",
    "\n",
    "# Trip links source        \n",
    "path_trip_list = \"c:/Users/LocalAdmin/OneDrive/leap_forward/street_network_server/tenv/data/in/trips/nyc_tripdata.csv\"\n",
    "\n",
    "# Local to save\n",
    "target_path = \"o:/phd/nyc_trips\"\n",
    "\n",
    "# Loading trip data csv (year, month, type[green, yellow, fhv], link)\n",
    "df = pd.read_csv(path_trip_list)\n",
    "\n",
    "# Filter trips from year\n",
    "filter_year = 2011\n",
    "links = df[df[\"year\"]==filter_year][\"link\"]\n",
    "\n",
    "# Donwload all links\n",
    "for link in links:\n",
    "    download_file(link, target_path)\n"
   ]
  },
  {
   "cell_type": "code",
   "execution_count": null,
   "metadata": {},
   "outputs": [],
   "source": []
  }
 ],
 "metadata": {
  "kernelspec": {
   "display_name": "Python 3",
   "language": "python",
   "name": "python3"
  },
  "language_info": {
   "codemirror_mode": {
    "name": "ipython",
    "version": 3
   },
   "file_extension": ".py",
   "mimetype": "text/x-python",
   "name": "python",
   "nbconvert_exporter": "python",
   "pygments_lexer": "ipython3",
   "version": "3.7.1"
  }
 },
 "nbformat": 4,
 "nbformat_minor": 2
}
