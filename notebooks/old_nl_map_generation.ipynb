{
 "cells": [
  {
   "cell_type": "markdown",
   "metadata": {
    "collapsed": true,
    "pycharm": {
     "name": "#%% md\n"
    }
   },
   "source": [
    "### Originally at the end former document"
   ]
  },
  {
   "cell_type": "raw",
   "source": [
    "buurt_shp2[\"AANT_INW_AVG\"] = buurt_shp2[\"AANT_INW\"]/sum(buurt_shp2[\"AANT_INW\"])\n",
    "buurt_shp2[\"ABEV_DICHTH_AVG\"] = buurt_shp2[\"BEV_DICHTH\"]/sum(buurt_shp2[\"BEV_DICHTH\"])\n",
    "\n",
    "## Bus stop count per neighborhood and district\n",
    "buurt_shp2[\"STOPS\"] = buurt_shp2[\"BU_NAAM\"].apply(lambda b:len(geo_stops[geo_stops[\"BU_NAAM\"]==b]))\n",
    "wijk_shp2[\"STOPS\"] = wijk_shp2[\"WK_NAAM\"].apply(lambda w:len(geo_stops[geo_stops[\"WK_NAAM\"]==w]))\n",
    "\n",
    "## Train station count per neighborhood and district\n",
    "buurt_shp2[\"STATIONS\"] = buurt_shp2[\"BU_NAAM\"].apply(lambda b:len(geo_stations[geo_stations[\"BU_NAAM\"]==b]))\n",
    "wijk_shp2[\"STATIONS\"] = wijk_shp2[\"WK_NAAM\"].apply(lambda w:len(geo_stations[geo_stations[\"WK_NAAM\"]==w]))\n",
    "\n",
    "\n",
    "## N. of mega stations per neighborhood and district\n",
    "buurt_shp2[\"STATIONS_MEGA_B\"] = buurt_shp2[\"BU_NAAM\"].apply(\n",
    "    lambda b:len(geo_stations[(geo_stations[\"BU_NAAM\"]==b)&(geo_stations[\"type\"]==\"megastation\")])\n",
    ")\n",
    "\n",
    "buurt_shp2[\"STATIONS_MEGA_W\"] = buurt_shp2[\"WK_NAAM\"].apply(\n",
    "    lambda w:len(geo_stations[(geo_stations[\"WK_NAAM\"]==w)&(geo_stations[\"type\"]==\"megastation\")])\n",
    ")\n",
    "\n",
    "\n",
    "## N. of \"intercitystation\", \"stoptreinstation\", and \"facultatiefstation\" per neighborhood and district\n",
    "buurt_shp2[\"STATIONS_INTER_B\"] = buurt_shp2[\"BU_NAAM\"].apply(\n",
    "    lambda b:len(geo_stations[(geo_stations[\"BU_NAAM\"]==b)&(geo_stations[\"type\"].isin([\"intercitystation\", \"stoptreinstation\", \"facultatiefstation\"]))])\n",
    ")\n",
    "\n",
    "buurt_shp2[\"STATIONS_INTER_W\"] = buurt_shp2[\"WK_NAAM\"].apply(\n",
    "    lambda w:len(geo_stations[(geo_stations[\"WK_NAAM\"]==w)&(geo_stations[\"type\"].isin([\"intercitystation\", \"stoptreinstation\", \"facultatiefstation\"]))])\n",
    ")\n",
    "\n",
    "## Create artificial weights to generate destinations based on the number of bus stops and train stations per neighborhood\n",
    "buurt_shp2[\"DEMAND_WEIGHT\"] = 5*buurt_shp2[\"STOPS\"] + 400*buurt_shp2[\"STATIONS_MEGA\"] + 200*buurt_shp2[\"STATIONS_INTER\"]+ 200*buurt_shp2[\"STATIONS_MEGA_W\"] + 100*buurt_shp2[\"STATIONS_INTER_W\"]\n",
    "buurt_shp2[\"DEMAND_WEIGHT\"] = buurt_shp2[\"DEMAND_WEIGHT\"]/sum(buurt_shp2[\"DEMAND_WEIGHT\"])"
   ],
   "metadata": {
    "collapsed": false
   }
  },
  {
   "cell_type": "raw",
   "source": [
    "from mpl_toolkits.axes_grid1 import make_axes_locatable\n",
    "fig, ax = plt.subplots(figsize=(20, 40))\n",
    "\n",
    "# Color based on\n",
    "color_column = \"DEMAND_WEIGHT\"\n",
    "# # Setup population bar from districts\n",
    "# divider1 = make_axes_locatable(ax[0])\n",
    "# cax1 = divider1.append_axes(\"right\", size=\"5%\", pad=0.1)\n",
    "# wijk_shp.plot(column=color_column, ax=ax[0], legend=True, cax=cax1)\n",
    "\n",
    "# Setup population bar from neighborhoods\n",
    "divider2 = make_axes_locatable(ax)\n",
    "cax2 = divider2.append_axes(\"right\", size=\"5%\", pad=0.1)\n",
    "buurt_shp2.plot(column=color_column, legend=True, ax=ax, cax=cax2)\n",
    "geo_stations.apply(\n",
    "        lambda x: ax.annotate(\n",
    "            s=f\"{x.middel_naam}\\n({x.type})\",\n",
    "            xy=np.array(x.geometry.centroid.coords[0])+np.array([0, 0.005]),\n",
    "            ha='center',\n",
    "            bbox=dict(\n",
    "                facecolor='white',\n",
    "                edgecolor='black',\n",
    "                boxstyle='round,pad=0.1'\n",
    "            )\n",
    "        ),\n",
    "        axis=1\n",
    "    )\n",
    "plt.show()"
   ],
   "metadata": {
    "collapsed": false
   }
  },
  {
   "cell_type": "markdown",
   "source": [
    "Save data to `.csv` file (id, lon, lat, district, neighborhood):"
   ],
   "metadata": {
    "collapsed": false
   }
  },
  {
   "cell_type": "raw",
   "source": [
    "# Create graph with only valid nodes (inside regions)\n",
    "G_filtered = copy.deepcopy(G)\n",
    "nodes_to_remove = set(G_filtered.nodes()).difference(set(df_geo[\"id\"]))\n",
    "for n in nodes_to_remove:\n",
    "    G_filtered.remove_node(n)\n",
    "\n",
    "# Get largest connected graph\n",
    "G_filtered = nw.clean_network(G_filtered)\n",
    "\n",
    "# Relabel nodes\n",
    "G_filtered = nx.relabel_nodes(\n",
    "    G_filtered,\n",
    "    {\n",
    "        k: i for i, k in enumerate(\n",
    "            sorted(G_filtered.nodes())\n",
    "        )\n",
    "    }\n",
    ")"
   ],
   "metadata": {
    "collapsed": false
   }
  },
  {
   "cell_type": "raw",
   "source": [
    "fig, ax = ox.plot_graph(\n",
    "    G_filtered,\n",
    "    fig_height=10,\n",
    "    node_color='orange',\n",
    "    node_size=1,\n",
    "    edge_linewidth=1,\n",
    "    node_zorder=2,\n",
    ")#, node_edgecolor='k', edge_color='#777777')"
   ],
   "metadata": {
    "collapsed": false
   }
  },
  {
   "cell_type": "raw",
   "source": [
    "print(\">> Original:\", nw.get_graph_info(G))\n",
    "print(\">> After removing:\", nw.get_graph_info(G_filtered))"
   ],
   "metadata": {
    "collapsed": false
   }
  },
  {
   "cell_type": "raw",
   "source": [
    "N = nx.DiGraph()\n",
    "buurt_shp2 = buurt_shp.to_crs({'init': 'epsg:4326'})\n",
    "wijk_shp2 = wijk_shp.to_crs({'init': 'epsg:4326'})\n",
    "\n",
    "for i, row_o in buurt_shp2.iterrows():\n",
    "    lon1, lat1 = row_o.geometry.centroid.x, row_o.geometry.centroid.y\n",
    "    #print(lon1, lat1)\n",
    "    N.add_node(row_o[\"BU_NAAM\"], pos=(x, y))\n",
    "    for j, row_d in buurt_shp2.iterrows():\n",
    "        lon2, lat2 = row_d.geometry.centroid.x, row_d.geometry.centroid.y\n",
    "\n",
    "        dist = ox.great_circle_vec(lat1, lon1, lat2, lon2)/1000\n",
    "        # print(lon1, lat1, lon2, lat2, dist)\n",
    "        N.add_edge(\n",
    "            row_o[\"BU_NAAM\"],\n",
    "            row_d[\"BU_NAAM\"],\n",
    "            weight=dist\n",
    "        )\n",
    "nx.draw(N, nx.get_node_attributes(N, 'pos'), with_labels=True, node_size=1)"
   ],
   "metadata": {
    "collapsed": false
   }
  },
  {
   "cell_type": "markdown",
   "source": [
    "Load income statistics and join them to district and neighborhood geodata:\n",
    "\n",
    "\n",
    "\n"
   ],
   "metadata": {
    "collapsed": false
   }
  }
 ],
 "metadata": {
  "kernelspec": {
   "name": "python37664bitenvslevelsconda0fcbcdd2fdaa4d328ecf1cbcb199e13d",
   "language": "python",
   "display_name": "Python 3.7.6 64-bit ('env_slevels': conda)"
  },
  "language_info": {
   "codemirror_mode": {
    "name": "ipython",
    "version": 2
   },
   "file_extension": ".py",
   "mimetype": "text/x-python",
   "name": "python",
   "nbconvert_exporter": "python",
   "pygments_lexer": "ipython2",
   "version": "2.7.6"
  }
 },
 "nbformat": 4,
 "nbformat_minor": 0
}