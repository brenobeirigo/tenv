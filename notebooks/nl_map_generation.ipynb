{
 "cells": [
  {
   "cell_type": "markdown",
   "source": [
    "# Dutch street network sandbox"
   ],
   "metadata": {
    "collapsed": false,
    "pycharm": {
     "name": "#%% md\n"
    }
   }
  },
  {
   "cell_type": "code",
   "execution_count": 1,
   "metadata": {},
   "outputs": [],
   "source": [
    "import matplotlib.pyplot as plt\n",
    "from pprint import pprint\n",
    "from collections import defaultdict\n",
    "from datetime import datetime, timedelta\n",
    "import seaborn as sns\n",
    "import numpy as np\n",
    "import osmnx as ox\n",
    "import networkx as nx\n",
    "import pandas as pd\n",
    "import copy\n",
    "import os\n",
    "\n",
    "# Geopandas modules\n",
    "import geopandas as gpd\n",
    "from geopandas.tools import sjoin\n",
    "from shapely.geometry import Point # Create point from (lon, lat)\n",
    "from shapely.geometry import Polygon, MultiPolygon\n",
    "from descartes import PolygonPatch"
   ]
  },
  {
   "cell_type": "markdown",
   "metadata": {},
   "source": [
    "Selected geodata from The Netherlands ([Wijk- en buurtkaart 2019](https://www.cbs.nl/nl-nl/dossier/nederland-regionaal/geografische-data/wijk-en-buurtkaart-2019)) and cross with income data ([CBS 2017](https://opendata.cbs.nl/statline/portal.html?_la=nl&_catalog=CBS&tableId=83765NED&_theme=230))."
   ]
  },
  {
   "cell_type": "code",
   "execution_count": 2,
   "metadata": {},
   "outputs": [
    {
     "name": "stdout",
     "output_type": "stream",
     "text": [
      "['C:/Users/LocalAdmin/OneDrive/leap_forward/street_network_server/tenv/notebooks/output/rotterdam/figures/',\n",
      " 'C:/Users/LocalAdmin/OneDrive/leap_forward/street_network_server/tenv/notebooks/output/rotterdam/shp/',\n",
      " 'C:/Users/LocalAdmin/OneDrive/leap_forward/street_network_server/tenv/notebooks/output/rotterdam/shp/districts/',\n",
      " 'C:/Users/LocalAdmin/OneDrive/leap_forward/street_network_server/tenv/notebooks/output/rotterdam/shp/neighborhoods/',\n",
      " 'C:/Users/LocalAdmin/OneDrive/leap_forward/street_network_server/tenv/notebooks/output/rotterdam/shp/points/']\n"
     ]
    }
   ],
   "source": [
    "# Data sources\n",
    "# https://geoservices.zuid-holland.nl\n",
    "\n",
    "# Graph name\n",
    "city = \"Rotterdam\"\n",
    "\n",
    "# Region\n",
    "region = \"Rotterdam, The Netherlands\"\n",
    "\n",
    "# Assumption = People in Rotterdam Zuid have distinct travel patterns\n",
    "zuid_districts = [\"Charlois\", \"IJsselmonde\", \"Feijenoord\"]\n",
    "\n",
    "# Filter districts\n",
    "district_filter = [\"Hoek van Holland\", \"Rozenburg\", \"Pernis\", \"Hoogvliet\", \"Waalhaven-Eemhaven\"]\n",
    "\n",
    "# Filter neighborhoods\n",
    "neighborhood_filter_list = [\"Heijplaat\", \"Noord Kethel\", \"Schieveen\"]\n",
    "\n",
    "speed_km_h = 20\n",
    "max_travel_time_edge = 30 # seconds at speed_km_h\n",
    "\n",
    "graph_name = region.lower().replace(\" \", \"-\").replace(\",\", \"\")\n",
    "graph_filename = f\"{graph_name}.graphml\"\n",
    "city_name = city.lower().replace(\" \",\"_\")\n",
    "\n",
    "# Directory where data will be saved (absolute path is necessary)\n",
    "directory = \"C:/Users/LocalAdmin/OneDrive/leap_forward/street_network_server/tenv/notebooks/\"\n",
    "\n",
    "# Where input NL data is saved\n",
    "directory_data = \"../notebooks/data/nl/\"\n",
    "\n",
    "# Folders\n",
    "folder_data = f\"{directory}data/\"\n",
    "folder = f\"{directory}output/{city_name}/\"\n",
    "folder_network = f\"{folder}network/\"\n",
    "folder_img = f\"{folder}figures/\"\n",
    "folder_shp = f\"{folder}shp/\"\n",
    "folder_shp_districts = f\"{folder_shp}districts/\"\n",
    "folder_shp_neighborhoods = f\"{folder_shp}neighborhoods/\"\n",
    "folder_shp_points = f\"{folder_shp}points/\"\n",
    "\n",
    "folder_list = [\n",
    "    folder_img,\n",
    "    folder_shp,\n",
    "    folder_shp_districts,\n",
    "    folder_shp_neighborhoods,\n",
    "    folder_shp_points\n",
    "]\n",
    "\n",
    "pprint(folder_list)\n",
    "\n",
    "# Creating folder1s\n",
    "for f in folder_list:\n",
    "    if not os.path.exists(f):\n",
    "        os.makedirs(f)\n",
    "\n",
    "format = \".png\"\n",
    "# Imgs\n",
    "path_img_network_original = f\"{folder_img}street_network_original{format}\"\n",
    "path_img_street_network_points = f\"{folder_img}street_network_points{format}\"\n",
    "path_img_street_network_points_cleaned = f\"{folder_img}street_network_points_cleaned{format}\"\n",
    "path_img_street_network_neighbors=f\"{folder_img}street_network_neighbors{format}\"\n",
    "path_hexbins = f\"{folder_img}hexbins{format}\"\n",
    "path_overlay_hexbins = f\"{folder_img}overlay_hexbins{format}\"\n",
    "path_station_noord_zuid = f\"{folder_img}station_noord_zuid{format}\"\n",
    "path_img_residents = f\"{folder_img}residents{format}\"\n",
    "\n",
    "### Dataframes\n",
    "path_node_hex = f\"{folder}{city_name}_node_hex.csv\"\n",
    "path_node_station_hex = f\"{folder}{city_name}_node_station_hex.csv\"\n",
    "path_bus_stops = f\"{folder}{city_name}_bus_stops.csv\"\n",
    "path_nodes_dist_neigh = f\"{folder}{city_name}_nodes_dist_neigh.csv\"\n",
    "network_path = f\"{folder}{graph_name}.graphml\"\n",
    "path_dist_matrix_npy = f\"{folder_network}distance_matrix_m.npy\"\n",
    "\n",
    "### Shapes\n",
    "path_shp_districts = f\"{folder_shp_districts}{city_name}_districts.shp\"\n",
    "path_city_geopoints = f\"{folder_shp_points}{city_name}_network_points.shp\"\n",
    "path_shp_neighborhoods = f\"{folder_shp_neighborhoods}{city_name}_neighborhoods.shp\"\n",
    "\n",
    "### Input data\n",
    "path_stations = f\"{directory_data}nl_train_stations.csv\" # Train stations\n",
    "path_stats = f\"{directory_data}nl_census_2017.csv\" # Dutch stats\n",
    "path_stops = f\"{directory_data}nl_bus_stops.csv\" # Bus stops\n",
    "\n",
    "# Filter minimum population size\n",
    "min_pop = 1000\n",
    "year_stats = 2017\n",
    "\n",
    "# Get district and neighbor paths\n",
    "paths = {\n",
    "    2019:(\"2019/buurt_2019_v1.shp\" , \"2019/wijk_2019_v1.shp\", \"2019/gemeente_2019_v1.shp\"),\n",
    "    2017:(\"2017/buurt_2017_v3.shp\" , \"2017/wijk_2017_v3.shp\", \"2017/gemeente_2017_v3.shp\")\n",
    "}\n",
    "paths = {k:(f\"{directory_data}nl_district_neighbors/{s}\" for s in v) for k,v in paths.items()}\n",
    "\n",
    "# Path neighborhood (buurten) data AND Path district (wijken) data\n",
    "neighborhood_shp, district_shp, gemeente_shp  = paths[2019]\n",
    "\n",
    "# Loading districts and neighborhoods\n",
    "shapefile_wijk = gpd.read_file(district_shp)\n",
    "shapefile_buurt = gpd.read_file(neighborhood_shp)\n",
    "shapefile_gemeente = gpd.read_file(gemeente_shp)"
   ]
  },
  {
   "cell_type": "code",
   "execution_count": 3,
   "metadata": {},
   "outputs": [
    {
     "name": "stdout",
     "output_type": "stream",
     "text": [
      "BU: ['BU_CODE', 'JRSTATCODE', 'BU_NAAM', 'WK_CODE', 'WK_NAAM', 'GM_CODE', 'GM_NAAM', 'IND_WBI', 'WATER', 'POSTCODE', 'DEK_PERC', 'OAD', 'STED', 'BEV_DICHTH', 'AANT_INW', 'AANT_MAN', 'AANT_VROUW', 'P_00_14_JR', 'P_15_24_JR', 'P_25_44_JR', 'P_45_64_JR', 'P_65_EO_JR', 'P_ONGEHUWD', 'P_GEHUWD', 'P_GESCHEID', 'P_VERWEDUW', 'AANTAL_HH', 'P_EENP_HH', 'P_HH_Z_K', 'P_HH_M_K', 'GEM_HH_GR', 'P_WEST_AL', 'P_N_W_AL', 'P_MAROKKO', 'P_ANT_ARU', 'P_SURINAM', 'P_TURKIJE', 'P_OVER_NW', 'OPP_TOT', 'OPP_LAND', 'OPP_WATER', 'geometry']\n",
      "WK: ['WK_CODE', 'JRSTATCODE', 'WK_NAAM', 'GM_CODE', 'GM_NAAM', 'IND_WBI', 'WATER', 'OAD', 'STED', 'BEV_DICHTH', 'AANT_INW', 'AANT_MAN', 'AANT_VROUW', 'P_00_14_JR', 'P_15_24_JR', 'P_25_44_JR', 'P_45_64_JR', 'P_65_EO_JR', 'P_ONGEHUWD', 'P_GEHUWD', 'P_GESCHEID', 'P_VERWEDUW', 'AANTAL_HH', 'P_EENP_HH', 'P_HH_Z_K', 'P_HH_M_K', 'GEM_HH_GR', 'P_WEST_AL', 'P_N_W_AL', 'P_MAROKKO', 'P_ANT_ARU', 'P_SURINAM', 'P_TURKIJE', 'P_OVER_NW', 'OPP_TOT', 'OPP_LAND', 'OPP_WATER', 'geometry']\n",
      "GE: ['GM_CODE', 'JRSTATCODE', 'GM_NAAM', 'WATER', 'OAD', 'STED', 'BEV_DICHTH', 'AANT_INW', 'AANT_MAN', 'AANT_VROUW', 'P_00_14_JR', 'P_15_24_JR', 'P_25_44_JR', 'P_45_64_JR', 'P_65_EO_JR', 'P_ONGEHUWD', 'P_GEHUWD', 'P_GESCHEID', 'P_VERWEDUW', 'AANTAL_HH', 'P_EENP_HH', 'P_HH_Z_K', 'P_HH_M_K', 'GEM_HH_GR', 'P_WEST_AL', 'P_N_W_AL', 'P_MAROKKO', 'P_ANT_ARU', 'P_SURINAM', 'P_TURKIJE', 'P_OVER_NW', 'OPP_TOT', 'OPP_LAND', 'OPP_WATER', 'geometry']\n"
     ]
    }
   ],
   "source": [
    "print(\"BU:\", list(shapefile_buurt.keys()))\n",
    "print(\"WK:\", list(shapefile_wijk.keys()))\n",
    "print(\"GE:\", list(shapefile_gemeente.keys()))"
   ]
  },
  {
   "cell_type": "markdown",
   "metadata": {},
   "source": [
    "Columns filtered:\n",
    "\n",
    "|  Column    | Description                         |\n",
    "|-----------:|:------------------------------------|\n",
    "|`GM_NAAM`   |Gemeentenaam                         |\n",
    "|`WK_NAAM`   |Wijknaam                             |\n",
    "|`BU_NAAM`   |Buurtnaam                            |\n",
    "|`AANT_INW`  |Aantal inwoners                      |\n",
    "|`P_15_24_JR`|Percentage personen 15 tot 25 jaar   |\n",
    "|`P_25_44_JR`|Percentage personen 25 tot 45 jaar   |\n",
    "|`P_45_64_JR`|Percentage personen 45 tot 65 jaar   |\n",
    "|`P_65_EO_JR`|Percentage personen 65 jaar en ouder |\n",
    "|`BEV_DICHTH`|aantal inwoners per km2              |\n",
    "|`geometry`  |geodata (multi-polygon)              |\n"
   ]
  },
  {
   "cell_type": "markdown",
   "metadata": {},
   "source": [
    "Filter districts by: city, min. population and district black list."
   ]
  },
  {
   "cell_type": "code",
   "execution_count": 4,
   "metadata": {},
   "outputs": [
    {
     "name": "stdout",
     "output_type": "stream",
     "text": [
      "Districts from Rotterdam with more than 1,000 inhabitants:\n",
      "{'Charlois',\n",
      " 'Delfshaven',\n",
      " 'Feijenoord',\n",
      " 'Hillegersberg-Schiebroek',\n",
      " 'IJsselmonde',\n",
      " 'Kralingen-Crooswijk',\n",
      " 'Noord',\n",
      " 'Overschie',\n",
      " 'Prins Alexander',\n",
      " 'Rotterdam Centrum'}\n"
     ]
    }
   ],
   "source": [
    "# Filter columns\n",
    "shapefile_wijk = shapefile_wijk[[\n",
    "    \"GM_NAAM\",\n",
    "    \"WK_CODE\",\n",
    "    \"WK_NAAM\",\n",
    "    \"AANT_INW\",\n",
    "    #\"BEV_DICHTH\",\n",
    "    #\"P_15_24_JR\",\n",
    "    #\"P_25_44_JR\",\n",
    "    #\"P_45_64_JR\",\n",
    "    #\"P_65_EO_JR\",\n",
    "    \"geometry\"\n",
    "]]\n",
    "\n",
    "# Filters\n",
    "city_filter = (shapefile_wijk[\"GM_NAAM\"]==city) # Geement Naam = City\n",
    "min_pop_filter = (shapefile_wijk[\"AANT_INW\"]>=min_pop) # Aantal inwoners = N. of inhabitants\n",
    "district_filter = (~shapefile_wijk[\"WK_NAAM\"].isin(district_filter)) # Wijk naam = District name\n",
    "\n",
    "# Filtered districts\n",
    "wijk_shp = shapefile_wijk[city_filter & min_pop_filter & district_filter]\n",
    "\n",
    "# Show data\n",
    "population = sum(set(wijk_shp[\"AANT_INW\"]))\n",
    "districts = set(wijk_shp[\"WK_NAAM\"])\n",
    "print(f\"Districts from {city} with more than {min_pop:,} inhabitants:\")\n",
    "pprint(districts)"
   ]
  },
  {
   "cell_type": "markdown",
   "metadata": {},
   "source": [
    "Filter neighborhood data:"
   ]
  },
  {
   "cell_type": "code",
   "execution_count": 5,
   "metadata": {},
   "outputs": [
    {
     "name": "stdout",
     "output_type": "stream",
     "text": [
      "Neighborhoods from 'Rotterdam' within the selected districts:\n",
      "['Overschie', 'Landzicht', 'Molenlaankwartier', 'Struisenburg', 'Prinsenland', 'Groot IJsselmonde', 'Terbregge', 'Zuiderpark', 'De Esch', 'Schiebroek', 'Noordereiland', 'Provenierswijk', 'Kralingen Oost', 'Oud Mathenesse', 'Zuidwijk', 'Hillegersberg Zuid', 'Oosterflank', 'Zuidplein', 'Nieuw Crooswijk', 'Vreewijk', 'Schiemond', 'Zestienhoven', 'Bloemhof', 'Katendrecht', 'Afrikaanderwijk', 'Stadsdriehoek', 'Spangen', 'Tussendijken', 'Kralingen West', 'Nesselande', 'Blijdorp', 'Middelland', 'Tarwewijk', 'Cool', 'Dijkzigt', 'Kleinpolder', \"'s Gravenland\", 'Bergpolder', 'Ommoord', 'Agniesebuurt', 'Oude Noorden', 'Feijenoord', 'Charlois Zuidrand', 'Carnisse', 'Oude Westen', 'Oud IJsselmonde', 'Blijdorpsepolder', 'Witte Dorp', 'Nieuwe Werk', 'Kralingse Bos', 'Pendrecht', 'Oud Crooswijk', 'Beverwaard', 'Bospolder', 'Kralingseveer', 'Het Lage Land', 'Wielewaal', 'Hillesluis', 'Zevenkamp', 'Delfshaven', 'Cs Kwartier', 'Hillegersberg Noord', 'Kop van Zuid', 'Kop van Zuid - Entrepot', 'Lombardijen', 'Nieuwe Westen', 'Oud Charlois', 'Rubroek', 'Liskwartier']\n"
     ]
    }
   ],
   "source": [
    "# Filter columns\n",
    "shapefile_buurt = shapefile_buurt[[\n",
    "    \"GM_NAAM\",\n",
    "    \"WK_NAAM\",\n",
    "    \"BU_CODE\",\n",
    "    \"BU_NAAM\",\n",
    "    \"AANT_INW\",\n",
    "    #\"BEV_DICHTH\",\n",
    "    #\"P_15_24_JR\",\n",
    "    #\"P_25_44_JR\",\n",
    "    #\"P_45_64_JR\",\n",
    "    #\"P_65_EO_JR\",\n",
    "    \"geometry\"\n",
    "]]\n",
    "\n",
    "district_filter = (shapefile_buurt[\"WK_NAAM\"].isin(districts))\n",
    "city_filter = (shapefile_buurt[\"GM_NAAM\"]==city)\n",
    "neighborhood_filter = (~shapefile_buurt[\"BU_NAAM\"].isin(neighborhood_filter_list))\n",
    "#min_pop_filter = (shapefile_buurt[\"AANT_INW\"]>=min_pop) # Aantal inwoners = N. of inhabitants\n",
    "\n",
    "buurt_shp = shapefile_buurt[city_filter & district_filter & neighborhood_filter]\n",
    "\n",
    "# Show data\n",
    "neighborhoods = set(buurt_shp[\"BU_NAAM\"])\n",
    "print(f\"Neighborhoods from '{city}' within the selected districts:\")\n",
    "print(list(neighborhoods))"
   ]
  },
  {
   "cell_type": "code",
   "execution_count": 6,
   "metadata": {},
   "outputs": [
    {
     "data": {
      "text/plain": "        GM_NAAM            WK_NAAM     BU_CODE        BU_NAAM  AANT_INW  \\\n6718  Rotterdam  Rotterdam Centrum  BU05990110  Stadsdriehoek     16390   \n6719  Rotterdam  Rotterdam Centrum  BU05990111    Oude Westen      9445   \n6720  Rotterdam  Rotterdam Centrum  BU05990112           Cool      5735   \n6721  Rotterdam  Rotterdam Centrum  BU05990113    Cs Kwartier      1020   \n6722  Rotterdam  Rotterdam Centrum  BU05990118    Nieuwe Werk      1755   \n...         ...                ...         ...            ...       ...   \n6785  Rotterdam           Charlois  BU05991574   Oud Charlois     13760   \n6786  Rotterdam           Charlois  BU05991575      Wielewaal       420   \n6787  Rotterdam           Charlois  BU05991576      Zuidplein      1265   \n6788  Rotterdam           Charlois  BU05991577      Pendrecht     12390   \n6789  Rotterdam           Charlois  BU05991578     Zuiderpark      1275   \n\n                                               geometry  \n6718  POLYGON ((92349.580 437925.056, 92375.713 4379...  \n6719  POLYGON ((91412.788 437507.740, 91415.880 4375...  \n6720  POLYGON ((91925.500 437499.710, 91933.681 4375...  \n6721  POLYGON ((92326.078 437923.110, 92329.379 4379...  \n6722  POLYGON ((92366.606 436291.783, 92369.250 4362...  \n...                                                 ...  \n6785  POLYGON ((91162.000 434931.000, 91176.872 4349...  \n6786  POLYGON ((91205.945 433249.497, 91227.890 4332...  \n6787  POLYGON ((93046.460 433834.390, 93049.450 4338...  \n6788  POLYGON ((90875.580 431872.570, 90940.980 4319...  \n6789  POLYGON ((91013.159 433329.563, 91025.928 4333...  \n\n[69 rows x 6 columns]",
      "text/html": "<div>\n<style scoped>\n    .dataframe tbody tr th:only-of-type {\n        vertical-align: middle;\n    }\n\n    .dataframe tbody tr th {\n        vertical-align: top;\n    }\n\n    .dataframe thead th {\n        text-align: right;\n    }\n</style>\n<table border=\"1\" class=\"dataframe\">\n  <thead>\n    <tr style=\"text-align: right;\">\n      <th></th>\n      <th>GM_NAAM</th>\n      <th>WK_NAAM</th>\n      <th>BU_CODE</th>\n      <th>BU_NAAM</th>\n      <th>AANT_INW</th>\n      <th>geometry</th>\n    </tr>\n  </thead>\n  <tbody>\n    <tr>\n      <th>6718</th>\n      <td>Rotterdam</td>\n      <td>Rotterdam Centrum</td>\n      <td>BU05990110</td>\n      <td>Stadsdriehoek</td>\n      <td>16390</td>\n      <td>POLYGON ((92349.580 437925.056, 92375.713 4379...</td>\n    </tr>\n    <tr>\n      <th>6719</th>\n      <td>Rotterdam</td>\n      <td>Rotterdam Centrum</td>\n      <td>BU05990111</td>\n      <td>Oude Westen</td>\n      <td>9445</td>\n      <td>POLYGON ((91412.788 437507.740, 91415.880 4375...</td>\n    </tr>\n    <tr>\n      <th>6720</th>\n      <td>Rotterdam</td>\n      <td>Rotterdam Centrum</td>\n      <td>BU05990112</td>\n      <td>Cool</td>\n      <td>5735</td>\n      <td>POLYGON ((91925.500 437499.710, 91933.681 4375...</td>\n    </tr>\n    <tr>\n      <th>6721</th>\n      <td>Rotterdam</td>\n      <td>Rotterdam Centrum</td>\n      <td>BU05990113</td>\n      <td>Cs Kwartier</td>\n      <td>1020</td>\n      <td>POLYGON ((92326.078 437923.110, 92329.379 4379...</td>\n    </tr>\n    <tr>\n      <th>6722</th>\n      <td>Rotterdam</td>\n      <td>Rotterdam Centrum</td>\n      <td>BU05990118</td>\n      <td>Nieuwe Werk</td>\n      <td>1755</td>\n      <td>POLYGON ((92366.606 436291.783, 92369.250 4362...</td>\n    </tr>\n    <tr>\n      <th>...</th>\n      <td>...</td>\n      <td>...</td>\n      <td>...</td>\n      <td>...</td>\n      <td>...</td>\n      <td>...</td>\n    </tr>\n    <tr>\n      <th>6785</th>\n      <td>Rotterdam</td>\n      <td>Charlois</td>\n      <td>BU05991574</td>\n      <td>Oud Charlois</td>\n      <td>13760</td>\n      <td>POLYGON ((91162.000 434931.000, 91176.872 4349...</td>\n    </tr>\n    <tr>\n      <th>6786</th>\n      <td>Rotterdam</td>\n      <td>Charlois</td>\n      <td>BU05991575</td>\n      <td>Wielewaal</td>\n      <td>420</td>\n      <td>POLYGON ((91205.945 433249.497, 91227.890 4332...</td>\n    </tr>\n    <tr>\n      <th>6787</th>\n      <td>Rotterdam</td>\n      <td>Charlois</td>\n      <td>BU05991576</td>\n      <td>Zuidplein</td>\n      <td>1265</td>\n      <td>POLYGON ((93046.460 433834.390, 93049.450 4338...</td>\n    </tr>\n    <tr>\n      <th>6788</th>\n      <td>Rotterdam</td>\n      <td>Charlois</td>\n      <td>BU05991577</td>\n      <td>Pendrecht</td>\n      <td>12390</td>\n      <td>POLYGON ((90875.580 431872.570, 90940.980 4319...</td>\n    </tr>\n    <tr>\n      <th>6789</th>\n      <td>Rotterdam</td>\n      <td>Charlois</td>\n      <td>BU05991578</td>\n      <td>Zuiderpark</td>\n      <td>1275</td>\n      <td>POLYGON ((91013.159 433329.563, 91025.928 4333...</td>\n    </tr>\n  </tbody>\n</table>\n<p>69 rows × 6 columns</p>\n</div>"
     },
     "execution_count": 6,
     "metadata": {},
     "output_type": "execute_result"
    }
   ],
   "source": [
    "buurt_shp"
   ]
  },
  {
   "cell_type": "markdown",
   "metadata": {},
   "source": [
    "## Population in districts and neighborhoods"
   ]
  },
  {
   "cell_type": "code",
   "execution_count": 7,
   "metadata": {},
   "outputs": [
    {
     "name": "stderr",
     "output_type": "stream",
     "text": [
      "C:\\Users\\LocalAdmin\\anaconda3\\envs\\env_slevels\\lib\\site-packages\\ipykernel_launcher.py:1: SettingWithCopyWarning: \n",
      "A value is trying to be set on a copy of a slice from a DataFrame.\n",
      "Try using .loc[row_indexer,col_indexer] = value instead\n",
      "\n",
      "See the caveats in the documentation: https://pandas.pydata.org/pandas-docs/stable/user_guide/indexing.html#returning-a-view-versus-a-copy\n",
      "  \"\"\"Entry point for launching an IPython kernel.\n",
      "C:\\Users\\LocalAdmin\\anaconda3\\envs\\env_slevels\\lib\\site-packages\\ipykernel_launcher.py:2: SettingWithCopyWarning: \n",
      "A value is trying to be set on a copy of a slice from a DataFrame.\n",
      "Try using .loc[row_indexer,col_indexer] = value instead\n",
      "\n",
      "See the caveats in the documentation: https://pandas.pydata.org/pandas-docs/stable/user_guide/indexing.html#returning-a-view-versus-a-copy\n",
      "  \n"
     ]
    }
   ],
   "source": [
    "buurt_shp[\"share_residents\"] = buurt_shp[\"AANT_INW\"]/sum(buurt_shp[\"AANT_INW\"])\n",
    "wijk_shp[\"share_residents\"] = wijk_shp[\"AANT_INW\"]/sum(wijk_shp[\"AANT_INW\"])"
   ]
  },
  {
   "cell_type": "code",
   "execution_count": 8,
   "metadata": {},
   "outputs": [
    {
     "name": "stdout",
     "output_type": "stream",
     "text": [
      "MAX: 0.16468636082261504\n",
      "MAX: 0.049607026080354756\n"
     ]
    },
    {
     "data": {
      "text/plain": "<Figure size 1080x1080 with 2 Axes>",
      "image/png": "[encoded data removed]"
     },
     "metadata": {
      "needs_background": "light"
     },
     "output_type": "display_data"
    },
    {
     "data": {
      "text/plain": "<Figure size 720x720 with 2 Axes>",
      "image/png": "[encoded data removed]"
     },
     "metadata": {},
     "output_type": "display_data"
    }
   ],
   "source": [
    "from mpl_toolkits.axes_grid1 import make_axes_locatable\n",
    "fig_w, ax_w = plt.subplots(1, 1, figsize=(15, 15))\n",
    "\n",
    "sns.set_style(\"white\")\n",
    "sns.set_context(\"paper\")\n",
    "\n",
    "\n",
    "# Color based on\n",
    "color_column = \"share_residents\"\n",
    "# Setup population bar from districts\n",
    "divider1 = make_axes_locatable(ax_w)\n",
    "cax1 = divider1.append_axes(\"right\", size=\"5%\", pad=0.1)\n",
    "\n",
    "print(\"MAX:\", max(wijk_shp[color_column]))\n",
    "wijk_shp.plot(column=color_column, cmap=\"viridis\",  vmin=0, vmax=0.17, ax=ax_w, legend=True, cax=cax1)\n",
    "ax_w.axis(\"off\")\n",
    "ax_w.set_title(\"Share of residents (districts)\", fontsize=36)\n",
    "\n",
    "\n",
    "# Annotate district names\n",
    "_ = wijk_shp.apply(\n",
    "        lambda x: ax_w.annotate(\n",
    "            s=x.WK_NAAM,\n",
    "            xy=x.geometry.centroid.coords[0],\n",
    "            ha='center',\n",
    "            bbox=dict(\n",
    "                facecolor='white',\n",
    "                edgecolor='black',\n",
    "                boxstyle='round,pad=1'\n",
    "            )\n",
    "        ),\n",
    "        axis=1\n",
    "    )\n",
    "\n",
    "fig_res, ax_res = plt.subplots(1, 1, figsize=(10, 10))\n",
    "\n",
    "# Annotate neighborhood names\n",
    "_ = buurt_shp.apply(\n",
    "        lambda x: ax_res.annotate(\n",
    "            s=x.BU_NAAM,\n",
    "            xy=x.geometry.centroid.coords[0],\n",
    "            ha='center',\n",
    "            bbox=dict(\n",
    "                facecolor='white',\n",
    "                edgecolor='black',\n",
    "                boxstyle='round,pad=0.2'\n",
    "            )\n",
    "        ),\n",
    "        axis=1\n",
    "    )\n",
    "\n",
    "# Setup population bar from neighborhoods\n",
    "print(\"MAX:\", max(buurt_shp[color_column]))\n",
    "divider2 = make_axes_locatable(ax_res)\n",
    "cax2 = divider2.append_axes(\"right\", size=\"5%\", pad=0.1)\n",
    "buurt_shp.plot(column=color_column, cmap=\"binary\", edgecolor=\"black\", legend=True, vmin=0, vmax=0.05, ax=ax_res, cax=cax2)\n",
    "\n",
    "\n",
    "ax_res.axis(\"off\")\n",
    "#ax[1].set_title(\"Number of residents (neighborhoods)\", fontsize=28)\n",
    "\n",
    "\n",
    "fig_res.savefig(path_img_residents, bbox_inches=\"tight\", pad_inches=0)"
   ]
  },
  {
   "cell_type": "markdown",
   "metadata": {},
   "source": [
    "## Plot network over geographic areas"
   ]
  },
  {
   "cell_type": "markdown",
   "metadata": {},
   "source": [
    "Get the street network graph of the city from openstreetmaps:\n"
   ]
  },
  {
   "cell_type": "code",
   "execution_count": 9,
   "metadata": {},
   "outputs": [
    {
     "ename": "TypeError",
     "evalue": "Geometry must be a shapely Polygon or MultiPolygon. If you requested graph from place name or address, make sure your query resolves to a Polygon or MultiPolygon, and not some other geometry, like a Point. See OSMnx documentation for details.",
     "output_type": "error",
     "traceback": [
      "\u001B[1;31m---------------------------------------------------------------------------\u001B[0m",
      "\u001B[1;31mTypeError\u001B[0m                                 Traceback (most recent call last)",
      "\u001B[1;32m<ipython-input-9-f15f1cb3b01b>\u001B[0m in \u001B[0;36m<module>\u001B[1;34m\u001B[0m\n\u001B[1;32m----> 1\u001B[1;33m \u001B[0mG_original\u001B[0m \u001B[1;33m=\u001B[0m \u001B[0mox\u001B[0m\u001B[1;33m.\u001B[0m\u001B[0mgraph_from_place\u001B[0m\u001B[1;33m(\u001B[0m\u001B[0mregion\u001B[0m\u001B[1;33m,\u001B[0m \u001B[0mnetwork_type\u001B[0m\u001B[1;33m=\u001B[0m\u001B[1;34m\"drive\"\u001B[0m\u001B[1;33m,\u001B[0m \u001B[0msimplify\u001B[0m\u001B[1;33m=\u001B[0m\u001B[1;32mTrue\u001B[0m\u001B[1;33m)\u001B[0m\u001B[1;33m\u001B[0m\u001B[1;33m\u001B[0m\u001B[0m\n\u001B[0m\u001B[0;32m      2\u001B[0m \u001B[1;33m\u001B[0m\u001B[0m\n",
      "\u001B[1;32m~\\anaconda3\\envs\\env_slevels\\lib\\site-packages\\osmnx\\core.py\u001B[0m in \u001B[0;36mgraph_from_place\u001B[1;34m(query, network_type, simplify, retain_all, truncate_by_edge, name, which_result, buffer_dist, timeout, memory, max_query_area_size, clean_periphery, infrastructure, custom_filter)\u001B[0m\n\u001B[0;32m   1448\u001B[0m                            \u001B[0mmax_query_area_size\u001B[0m\u001B[1;33m=\u001B[0m\u001B[0mmax_query_area_size\u001B[0m\u001B[1;33m,\u001B[0m\u001B[1;33m\u001B[0m\u001B[1;33m\u001B[0m\u001B[0m\n\u001B[0;32m   1449\u001B[0m                            \u001B[0mclean_periphery\u001B[0m\u001B[1;33m=\u001B[0m\u001B[0mclean_periphery\u001B[0m\u001B[1;33m,\u001B[0m \u001B[0minfrastructure\u001B[0m\u001B[1;33m=\u001B[0m\u001B[0minfrastructure\u001B[0m\u001B[1;33m,\u001B[0m\u001B[1;33m\u001B[0m\u001B[1;33m\u001B[0m\u001B[0m\n\u001B[1;32m-> 1450\u001B[1;33m                            custom_filter=custom_filter)\n\u001B[0m\u001B[0;32m   1451\u001B[0m \u001B[1;33m\u001B[0m\u001B[0m\n\u001B[0;32m   1452\u001B[0m     \u001B[0mlog\u001B[0m\u001B[1;33m(\u001B[0m\u001B[1;34m'graph_from_place() returning graph with {:,} nodes and {:,} edges'\u001B[0m\u001B[1;33m.\u001B[0m\u001B[0mformat\u001B[0m\u001B[1;33m(\u001B[0m\u001B[0mlen\u001B[0m\u001B[1;33m(\u001B[0m\u001B[0mlist\u001B[0m\u001B[1;33m(\u001B[0m\u001B[0mG\u001B[0m\u001B[1;33m.\u001B[0m\u001B[0mnodes\u001B[0m\u001B[1;33m(\u001B[0m\u001B[1;33m)\u001B[0m\u001B[1;33m)\u001B[0m\u001B[1;33m)\u001B[0m\u001B[1;33m,\u001B[0m \u001B[0mlen\u001B[0m\u001B[1;33m(\u001B[0m\u001B[0mlist\u001B[0m\u001B[1;33m(\u001B[0m\u001B[0mG\u001B[0m\u001B[1;33m.\u001B[0m\u001B[0medges\u001B[0m\u001B[1;33m(\u001B[0m\u001B[1;33m)\u001B[0m\u001B[1;33m)\u001B[0m\u001B[1;33m)\u001B[0m\u001B[1;33m)\u001B[0m\u001B[1;33m)\u001B[0m\u001B[1;33m\u001B[0m\u001B[1;33m\u001B[0m\u001B[0m\n",
      "\u001B[1;32m~\\anaconda3\\envs\\env_slevels\\lib\\site-packages\\osmnx\\core.py\u001B[0m in \u001B[0;36mgraph_from_polygon\u001B[1;34m(polygon, network_type, simplify, retain_all, truncate_by_edge, name, timeout, memory, max_query_area_size, clean_periphery, infrastructure, custom_filter)\u001B[0m\n\u001B[0;32m   1304\u001B[0m         \u001B[1;32mraise\u001B[0m \u001B[0mTypeError\u001B[0m\u001B[1;33m(\u001B[0m\u001B[1;34m'Shape does not have a valid geometry'\u001B[0m\u001B[1;33m)\u001B[0m\u001B[1;33m\u001B[0m\u001B[1;33m\u001B[0m\u001B[0m\n\u001B[0;32m   1305\u001B[0m     \u001B[1;32mif\u001B[0m \u001B[1;32mnot\u001B[0m \u001B[0misinstance\u001B[0m\u001B[1;33m(\u001B[0m\u001B[0mpolygon\u001B[0m\u001B[1;33m,\u001B[0m \u001B[1;33m(\u001B[0m\u001B[0mPolygon\u001B[0m\u001B[1;33m,\u001B[0m \u001B[0mMultiPolygon\u001B[0m\u001B[1;33m)\u001B[0m\u001B[1;33m)\u001B[0m\u001B[1;33m:\u001B[0m\u001B[1;33m\u001B[0m\u001B[1;33m\u001B[0m\u001B[0m\n\u001B[1;32m-> 1306\u001B[1;33m         raise TypeError('Geometry must be a shapely Polygon or MultiPolygon. If you requested '\n\u001B[0m\u001B[0;32m   1307\u001B[0m                          \u001B[1;34m'graph from place name or address, make sure your query resolves to a '\u001B[0m\u001B[1;33m\u001B[0m\u001B[1;33m\u001B[0m\u001B[0m\n\u001B[0;32m   1308\u001B[0m                          \u001B[1;34m'Polygon or MultiPolygon, and not some other geometry, like a Point. '\u001B[0m\u001B[1;33m\u001B[0m\u001B[1;33m\u001B[0m\u001B[0m\n",
      "\u001B[1;31mTypeError\u001B[0m: Geometry must be a shapely Polygon or MultiPolygon. If you requested graph from place name or address, make sure your query resolves to a Polygon or MultiPolygon, and not some other geometry, like a Point. See OSMnx documentation for details."
     ]
    }
   ],
   "source": [
    "G_original = ox.graph_from_place(region, network_type=\"drive\", simplify=True)"
   ]
  },
  {
   "cell_type": "code",
   "execution_count": null,
   "outputs": [],
   "source": [
    "import sys\n",
    "import logging\n",
    "logging.basicConfig(level=logging.INFO)\n",
    "\n",
    "# Network module includes the \"clean_network\" function\n",
    "# to get the largest strongly connected graph.\n",
    "\n",
    "sys.path.insert(0, \"../../tenv/tenv/\")\n",
    "import network as nw\n",
    "\n",
    "# Get network graph and save\n",
    "G = nw.get_network_from(\n",
    "    region,\n",
    "    folder_network,\n",
    "    graph_name,\n",
    "    graph_filename,\n",
    "    max_travel_time_edge,\n",
    "    speed_km_h,\n",
    ")\n",
    "\n",
    "nw.save_graph_pic(G, folder_img)"
   ],
   "metadata": {
    "collapsed": false,
    "pycharm": {
     "name": "#%%\n"
    }
   }
  },
  {
   "cell_type": "code",
   "execution_count": null,
   "metadata": {},
   "outputs": [],
   "source": [
    "# Project graph using Dutch CRS\n",
    "G_proj_original = ox.project_graph(G_original, to_crs=('EPSG:28992'))\n",
    "\n",
    "# Plot street network projection\n",
    "fig, ax = ox.plot_graph(\n",
    "    G_proj_original,\n",
    "    fig_height=10,\n",
    "    node_color=\"#C0C0C0\",\n",
    "    node_size=1,\n",
    "    edge_linewidth=0.5,\n",
    "    node_zorder=0,\n",
    "    edge_color=\"#D3D3D3\",\n",
    "    show=False,\n",
    "    close=False,\n",
    ")#, node_edgecolor='k', edge_color='#777777')\n",
    "\n",
    "fig.savefig(path_img_network_original, bbox_inches=\"tight\", pad_inches=0)"
   ]
  },
  {
   "cell_type": "markdown",
   "metadata": {},
   "source": [
    "### Dataframe from street network"
   ]
  },
  {
   "cell_type": "markdown",
   "metadata": {},
   "source": [
    "Create a geopandas dataframe from graph nodes (node id, lon, lat):"
   ]
  },
  {
   "cell_type": "code",
   "execution_count": null,
   "metadata": {},
   "outputs": [],
   "source": [
    "data = defaultdict(list)\n",
    "for n in G_original.nodes():\n",
    "    data[\"id\"].append(n)\n",
    "    x=G_original.nodes[n][\"x\"]\n",
    "    y=G_original.nodes[n][\"y\"]\n",
    "    data[\"lon\"].append(x)\n",
    "    data[\"lat\"].append(y)\n",
    "\n",
    "df_points = pd.DataFrame.from_dict(data)\n",
    "geometry = [Point(xy) for xy in zip(df_points.lon, df_points.lat)]\n",
    "\n",
    "# geopandas from graph\n",
    "geo_points = gpd.GeoDataFrame(df_points, geometry=geometry, crs=\"EPSG:4326\")\n",
    "geo_points = geo_points.to_crs('EPSG:28992')"
   ]
  },
  {
   "cell_type": "markdown",
   "metadata": {},
   "source": [
    "Add district and neighborhood names to points (check if point is within polygon) and drop unmatched nodes:"
   ]
  },
  {
   "cell_type": "code",
   "execution_count": null,
   "metadata": {},
   "outputs": [],
   "source": [
    "geo_points = gpd.sjoin(geo_points, wijk_shp[[\"WK_NAAM\",\"geometry\"]], how=\"left\", op='within')\n",
    "geo_points.drop(\"index_right\", axis=1,inplace=True)\n",
    "\n",
    "geo_points = gpd.sjoin(geo_points, buurt_shp[[\"BU_NAAM\",\"geometry\"]], how=\"left\", op='within')\n",
    "geo_points.drop(\"index_right\", axis=1,inplace=True)\n",
    "geo_points.dropna(inplace=True)\n",
    "\n",
    "# Nodes that do not belong to any neighborhood \n",
    "# or district are removed (`WK_NAAM = NaN` or `BU_NAAM = NaN`).\n",
    "geo_points[[\"id\", \"lon\", \"lat\", \"WK_NAAM\", \"BU_NAAM\"]].rename(columns={\"WK_NAAM\":\"district\", \"BU_NAAM\":\"neighborhood\"}).to_csv(path_nodes_dist_neigh, index=False)\n",
    "geo_points.head(5)"
   ]
  },
  {
   "cell_type": "code",
   "execution_count": null,
   "metadata": {},
   "outputs": [],
   "source": [
    "ax = geo_points.plot(figsize=(10,10), legend=True, color=\"k\", markersize=0.3)\n",
    "#ax.set_title(f\"Street network nodes in {city} area\")\n",
    "_ = ax.axis(\"off\")\n",
    "plt.savefig(path_img_street_network_points, bbox_inches=\"tight\", pad_inches=0)"
   ]
  },
  {
   "cell_type": "markdown",
   "metadata": {},
   "source": [
    "Removing nodes that are not covered by district/neighborhood areas."
   ]
  },
  {
   "cell_type": "code",
   "execution_count": null,
   "metadata": {},
   "outputs": [],
   "source": [
    "import sys\n",
    "import logging\n",
    "logging.basicConfig(level=logging.INFO)\n",
    "\n",
    "# Network module includes the \"clean_network\" function\n",
    "# to get the largest strongly connected graph.\n",
    "\n",
    "import network as nw\n",
    "\n",
    "try:\n",
    "    print(f\"Loading graph '{network_path}'.\")\n",
    "    G = ox.load_graphml(network_path, folder=folder)\n",
    "    geo_points = gpd.read_file(path_city_geopoints)\n",
    "\n",
    "except Exception as e:\n",
    "    print(f\"Cannot load data! Exception: '{e}'\")\n",
    "    G = copy.deepcopy(G_original)\n",
    "    print(\"# Original graph:\")\n",
    "    print(nw.get_graph_info(G))\n",
    "\n",
    "    print(f\"\\n# Removing nodes:\")\n",
    "    nodes_to_remove = set(G.nodes) - set(geo_points[\"id\"])\n",
    "    G.remove_nodes_from(nodes_to_remove)\n",
    "    print(\"Nodes to remove:\", len(nodes_to_remove))\n",
    "    print(nw.get_graph_info(G))\n",
    "\n",
    "    print(\"\\n# Cleaning network:\")\n",
    "    G_cleaned = nw.clean_network(G)\n",
    "    print(nw.get_graph_info(G_cleaned))\n",
    "    removed = set(G.nodes) - set(G_cleaned)\n",
    "    print(f\"Removed: {len(removed)}.\")\n",
    "\n",
    "    print(\"\\n# After relabel:\")\n",
    "    mapping = {k: i for i, k in enumerate(sorted(G_cleaned.nodes))}\n",
    "    G = nx.relabel_nodes(G_cleaned, mapping)\n",
    "    \n",
    "    # Remove exlcluded points\n",
    "    geo_points = geo_points[~geo_points[\"id\"].isin(removed)].copy()\n",
    "    geo_points[\"id\"] = geo_points[\"id\"].apply(lambda row: mapping[row])\n",
    "    geo_points.sort_values(by=\"id\", inplace=True)\n",
    "    \n",
    "    # Save points\n",
    "    geo_points.to_file(path_city_geopoints)\n",
    "    \n",
    "    # Save graphs\n",
    "    ox.save_graphml(G, filename=network_path, folder=folder)\n",
    "\n",
    "print(nw.get_graph_info(G))\n",
    "geo_points"
   ]
  },
  {
   "cell_type": "code",
   "execution_count": null,
   "metadata": {},
   "outputs": [],
   "source": [
    "ax = geo_points.plot(figsize=(10,10), legend=True, color=\"k\", markersize=0.3)\n",
    "#ax.set_title(f\"Street network nodes in {city} area\")\n",
    "_ = ax.axis(\"off\")\n",
    "plt.savefig(path_img_street_network_points_cleaned, bbox_inches=\"tight\", pad_inches=0)"
   ]
  },
  {
   "cell_type": "markdown",
   "metadata": {},
   "source": [
    "### Creating the distance matrix"
   ]
  },
  {
   "cell_type": "markdown",
   "metadata": {},
   "source": [
    "Get the shortest path between all nodes in graph:\n"
   ]
  },
  {
   "cell_type": "code",
   "execution_count": null,
   "metadata": {},
   "outputs": [],
   "source": [
    "distance_matrix_m = nw.get_distance_dic(path_dist_matrix_npy, G)\n",
    "\n",
    "print(\"Loaded distance matrix:\", type(distance_matrix_m), distance_matrix_m.shape)"
   ]
  },
  {
   "cell_type": "code",
   "execution_count": null,
   "metadata": {},
   "outputs": [],
   "source": [
    "geo_points"
   ]
  },
  {
   "cell_type": "raw",
   "metadata": {},
   "source": [
    "# Load map of Rotterdam (preprocessed to improve granularity)\n",
    "G = ox.load_graphml(\"C:/Users/LocalAdmin/OneDrive/leap_forward/street_network_server/tenv/data/out/Nrotterdam-the-netherlands/map/rotterdam-the-netherlands.graphml\")"
   ]
  },
  {
   "cell_type": "code",
   "execution_count": null,
   "metadata": {},
   "outputs": [],
   "source": [
    "# ##### CRS (Coordinate Reference System)\n",
    "#  4326 = WGS 84 - WGS84 - World Geodetic System 1984, used in GPS\n",
    "# 28992 = Amersfoort / RD New -- Netherlands - Holland - Dutch\n",
    "\n",
    "# Project graph using CRS of Dutch data\n",
    "G_proj = ox.project_graph(G, to_crs=('EPSG:28992'))"
   ]
  },
  {
   "cell_type": "code",
   "execution_count": null,
   "metadata": {},
   "outputs": [],
   "source": [
    "# Plot projection\n",
    "fig, ax = ox.plot_graph(\n",
    "    G_proj,\n",
    "    fig_height=10,\n",
    "    fig_width=20,\n",
    "    node_color=\"#C0C0C0\",\n",
    "    node_size=1,\n",
    "    edge_linewidth=0.5,\n",
    "    node_zorder=0,\n",
    "    edge_color=\"#D3D3D3\",\n",
    "    show=False,\n",
    "    close=False,\n",
    ")#, node_edgecolor='k', edge_color='#777777')\n",
    "plt.close()"
   ]
  },
  {
   "cell_type": "markdown",
   "metadata": {},
   "source": [
    "Plotting neighborhoods and annotations:"
   ]
  },
  {
   "cell_type": "raw",
   "metadata": {},
   "source": [
    "sns.set_context(\"paper\")\n",
    "sns.set_style(\"white\")\n",
    "# Plot all polygons\n",
    "for geometry in buurt_shp['geometry'].tolist():\n",
    "    if isinstance(geometry, (Polygon, MultiPolygon)):\n",
    "        if isinstance(geometry, Polygon):\n",
    "            geometry = MultiPolygon([geometry])\n",
    "        for polygon in geometry:\n",
    "            patch = PolygonPatch(\n",
    "                polygon,\n",
    "                fc=\"white\",\n",
    "                ec=\"red\",\n",
    "                linewidth=2,\n",
    "                alpha=0.5,\n",
    "                zorder=-1\n",
    "            )\n",
    "            ax.add_patch(patch)\n",
    "\n",
    "# Annotate district names\n",
    "_ = wijk_shp.apply(\n",
    "        lambda x: ax.annotate(\n",
    "            s=x.WK_NAAM,\n",
    "            xy=x.geometry.centroid.coords[0],\n",
    "            ha='center',\n",
    "            bbox=dict(\n",
    "                facecolor='white',\n",
    "                edgecolor='black',\n",
    "                boxstyle='round,pad=1'\n",
    "            )\n",
    "        ),\n",
    "        axis=1\n",
    "    )\n",
    "\n",
    "ax.set_title(\"Street Network (openstreetmaps)\", fontsize=28)\n",
    "\n",
    "fig"
   ]
  },
  {
   "cell_type": "markdown",
   "metadata": {},
   "source": [
    "Plot district boundaries over street network:"
   ]
  },
  {
   "cell_type": "code",
   "execution_count": null,
   "metadata": {},
   "outputs": [],
   "source": [
    "sns.set_context(\"paper\")\n",
    "sns.set_style(\"white\")\n",
    "\n",
    "# Plot street network projection\n",
    "fig_snet, ax_snet = ox.plot_graph(\n",
    "    G_proj,\n",
    "    fig_height=12,\n",
    "    margin=0.2,\n",
    "    node_color=\"#C0C0C0\",\n",
    "    node_size=1,\n",
    "    edge_linewidth=0.5,\n",
    "    node_zorder=0,\n",
    "    edge_color=\"#D3D3D3\",\n",
    "    show=False,\n",
    "    close=False,\n",
    ")#, node_edgecolor='k', edge_color='#777777')\n",
    "plt.close()\n",
    "\n",
    "# Plot district boundaries\n",
    "wijk_shp.geometry.boundary.plot(ax=ax_snet, color='red', linewidth=1,zorder=100)\n",
    "\n",
    "# Annotate district names\n",
    "_ = wijk_shp.apply(\n",
    "        lambda x: ax_snet.annotate(\n",
    "            s=x.WK_NAAM,\n",
    "            xy=x.geometry.centroid.coords[0],\n",
    "            ha='center',\n",
    "            bbox=dict(\n",
    "                facecolor='white',\n",
    "                edgecolor='silver',\n",
    "                boxstyle='round,pad=0.5'\n",
    "            ),\n",
    "            zorder=200,\n",
    "        ),\n",
    "        axis=1\n",
    "    )\n",
    "\n",
    "fig_snet.savefig(path_img_street_network_neighbors) #, bbox_inches=\"tight\", pad_inches=0)\n",
    "fig_snet"
   ]
  },
  {
   "cell_type": "markdown",
   "metadata": {},
   "source": [
    "## Creating hexbins to aggregate nodes"
   ]
  },
  {
   "cell_type": "markdown",
   "metadata": {},
   "source": [
    "Using  [H3](https://eng.uber.com/h3/) grid system, Uber’s hexagonal hierarchical spatial index.\n",
    "\n",
    "Table of Cell Areas for H3 Resolutions ([link](https://h3geo.org/#/documentation/core-library/resolution-table)):\n",
    "\n",
    "Resolutions used:\n",
    "\n",
    "|H3 <br>Resolution | Average Hexagon<br>Area (km2) | Average Hexagon<br>Edge Length (km)|\n",
    "|:-------------:|:---------------------------:|:--------------------------------:|\n",
    "|6|6.1290521|3.229482772|\n",
    "|7|5.1612932|1.220629759|\n",
    "|8|0.7373276|0.461354684|\n",
    "|9|0.1053325|0.174375668|\n",
    "|10|0.0150475|0.065907807|\n",
    "|11|0.0021496|0.024910561|"
   ]
  },
  {
   "cell_type": "code",
   "execution_count": null,
   "metadata": {},
   "outputs": [],
   "source": [
    "from h3 import h3\n",
    "def hex_geo(lat, lon, res):\n",
    "    \"\"\"Return hexbin id and geometries of hexagon covering (lon, lat) at resoluton res\"\"\"\n",
    "    # Get the index\n",
    "    h = h3.geo_to_h3(lat=lat,lng=lon, res=res)\n",
    "    \n",
    "    # Find the geographic boundariy [[coord1], [coord2], ...,[coord6]]\n",
    "    geo = h3.h3_to_geo_boundary(h3_address=h)\n",
    "    \n",
    "    # Create polygon (invert lat/lon)\n",
    "    poly = Polygon([[c[1], c[0]] for c in geo])\n",
    "\n",
    "    # Lon, lat coordinates of hexagon centroid\n",
    "    centroid = poly.centroid\n",
    "    \n",
    "    # Find in G the nearest intersection to the centroid\n",
    "    node_id = ox.get_nearest_node(G, (centroid.y, centroid.x), return_dist=False)\n",
    "    \n",
    "    # Get the (lon, lat) of the node\n",
    "    node_gps = Point(G.nodes[node_id][\"x\"], G.nodes[node_id][\"y\"])\n",
    "\n",
    "    return (h, poly, centroid, node_id, node_gps)\n",
    "\n",
    "# Dataframe with the hexbin info\n",
    "geo_points_hex = copy.deepcopy(geo_points)\n",
    "geo_points_hex = geo_points_hex.to_crs('EPSG:4326')\n",
    "\n",
    "# H3 supports sixteen resolutions. Each finer resolution has cells with one seventh \n",
    "# the area of the coarser resolution. Hexagons cannot be perfectly subdivided into \n",
    "# seven hexagons, so the finer cells are only approximately contained within a parent cell.\n",
    "hex_res = [9, 8, 7]\n",
    "for i, res in enumerate(hex_res):\n",
    "    geo_points_hex[\n",
    "        [\n",
    "            f\"hex_{res:02}\",\n",
    "            f\"geo_{res:02}\",\n",
    "            f\"centroid_{res:02}\",\n",
    "            f\"centroid_node_{res:02}\",\n",
    "            f\"centroid_node_gps_{res:02}\"\n",
    "        ]\n",
    "    ] = geo_points.apply(\n",
    "            lambda row: hex_geo(\n",
    "                row.lat,\n",
    "                row.lon,\n",
    "                res=res\n",
    "            ),\n",
    "            axis=1,\n",
    "            result_type='expand'\n",
    "    )"
   ]
  },
  {
   "cell_type": "code",
   "execution_count": null,
   "metadata": {},
   "outputs": [],
   "source": [
    "geo_points_hex = geo_points_hex.dropna()\n",
    "geo_points_hex.sort_values(by=[\"id\", \"hex_07\", \"hex_08\", \"hex_09\"], inplace=True)\n",
    "geo_points_hex[[\n",
    "    \"id\", \"lon\", \"lat\", \"WK_NAAM\", \"BU_NAAM\",\n",
    "    \"hex_07\", \"hex_08\", \"hex_09\",\n",
    "    \"centroid_07\", \"centroid_08\", \"centroid_09\",\n",
    "    \"centroid_node_07\", \"centroid_node_08\", \"centroid_node_09\",]\n",
    "].rename(columns={\"WK_NAAM\":\"district\", \"BU_NAAM\":\"neighborhood\"}).to_csv(path_node_hex, index=False)\n",
    "\n",
    "geo_points_hex"
   ]
  },
  {
   "cell_type": "code",
   "execution_count": null,
   "metadata": {},
   "outputs": [],
   "source": [
    "sns.set_context(\"paper\")\n",
    "sns.set_style(\"white\")\n",
    "\n",
    "color_levels = [\"r\", \"b\", \"gray\"]\n",
    "legend_levels = [\"1\", \"2\", \"3\"]\n",
    "fig, ax = plt.subplots(1, len(hex_res), figsize=(len(hex_res)*10, 10))\n",
    "fig_overlay, ax_overlay = plt.subplots(1, 1, figsize=(10, 10))\n",
    "\n",
    "for i, res in enumerate(hex_res):\n",
    "\n",
    "    # Isolate elements of a single resolution and drop duplicates\n",
    "    geo_hex = geo_points_hex.drop_duplicates(f\"hex_{res:02}\")[[f\"hex_{res:02}\", f\"geo_{res:02}\", f\"centroid_{res:02}\", f\"centroid_node_{res:02}\", f\"centroid_node_gps_{res:02}\"]]\n",
    "\n",
    "    # Create geodf for hexagons\n",
    "    geo_hex_df = gpd.GeoDataFrame(geo_hex[f\"hex_{res:02}\"], geometry=geo_hex[f\"geo_{res:02}\"])\n",
    "    geo_hex_df.crs = 'EPSG:4326'\n",
    "    \n",
    "    # Create geodf for the centroid\n",
    "    geo_centroid_df = gpd.GeoDataFrame(geo_hex[f\"centroid_{res:02}\"], geometry=geo_hex[f\"centroid_{res:02}\"])\n",
    "    geo_centroid_df.crs = 'EPSG:4326'\n",
    "\n",
    "    # Create geodf for the closest network node from centroid\n",
    "    geo_centroid_node_df = gpd.GeoDataFrame(geo_hex[f\"centroid_node_gps_{res:02}\"], geometry=geo_hex[f\"centroid_node_gps_{res:02}\"])\n",
    "    geo_centroid_node_df.crs = 'EPSG:4326'\n",
    "\n",
    "    geo_hex_df.to_crs('EPSG:28992').plot(ax=ax[i], color='white', edgecolor='black', linewidth=1)\n",
    "    geo_hex_df.boundary.to_crs('EPSG:28992').plot(ax=ax_overlay, color=color_levels[i], label=legend_levels[i], linewidth=1+len(legend_levels)-i, zorder=len(legend_levels)-i)\n",
    "    \n",
    "    geo_centroid_df.to_crs('EPSG:28992').plot(ax=ax[i], color=\"black\", markersize=2, label=\"Hexbin centroid\")\n",
    "    geo_centroid_node_df.to_crs('EPSG:28992').plot(ax=ax[i], color=\"red\", markersize=1, label=\"Nearest node in map\")\n",
    "    n_hex = len(geo_hex[f\"hex_{res:02}\"])\n",
    "    ax[i].set_title(f\"#Hexbins: {n_hex} (resolution={res})\", size=18)\n",
    "    ax[i].legend(frameon=False, loc=\"best\")\n",
    "    ax[i].axis(\"off\")\n",
    "\n",
    "fig.savefig(path_hexbins, bbox_inches='tight', pad_inches=0)\n",
    "ax_overlay.legend(frameon=False, loc=(0,0), title=\"Hierarchical levels\", fontsize=16, title_fontsize=16, ncol=len(hex_res))\n",
    "ax_overlay.axis(\"off\")\n",
    "fig_overlay.savefig(path_overlay_hexbins, bbox_inches=\"tight\", pad_inches=0)\n",
    "\n",
    "plt.show()"
   ]
  },
  {
   "cell_type": "code",
   "execution_count": null,
   "metadata": {},
   "outputs": [],
   "source": [
    "sns.set_context(\"paper\")\n",
    "sns.set_style(\"white\")\n",
    "\n",
    "color_levels = [\"r\", \"b\", \"#C0C0C0\"]\n",
    "legend_levels = [\"1\", \"2\", \"3\"]\n",
    "alpha_levels = [1, 0.5, 1]\n",
    "linewidth_levels = [1,2,3]\n",
    "fig_overlay, ax_overlay = plt.subplots(1, 1, figsize=(20, 20))\n",
    "\n",
    "for i, res in enumerate(hex_res):\n",
    "\n",
    "    # Isolate elements of a single resolution and drop duplicates\n",
    "    geo_hex = geo_points_hex.drop_duplicates(f\"hex_{res:02}\")[[f\"hex_{res:02}\", f\"geo_{res:02}\", f\"centroid_{res:02}\", f\"centroid_node_{res:02}\", f\"centroid_node_gps_{res:02}\"]]\n",
    "\n",
    "    # Create geodf for hexagons\n",
    "    geo_hex_df = gpd.GeoDataFrame(geo_hex[f\"hex_{res:02}\"], geometry=geo_hex[f\"geo_{res:02}\"])\n",
    "    geo_hex_df.crs = 'EPSG:4326'\n",
    "    geo_hex_df.boundary.to_crs('EPSG:28992').plot(\n",
    "        ax=ax_overlay,\n",
    "        color=color_levels[i],\n",
    "        label=legend_levels[i],\n",
    "        alpha=alpha_levels[i],\n",
    "        linewidth=linewidth_levels[i],\n",
    "        zorder=len(legend_levels)-i\n",
    "    )\n",
    "\n",
    "ax_overlay.legend(\n",
    "    frameon=False,\n",
    "    loc=(0.8,1/2),\n",
    "    title=\"Levels\",\n",
    "    fontsize=32,\n",
    "    title_fontsize=32,\n",
    "    #ncol=len(hex_res)\n",
    ")\n",
    "\n",
    "ax_overlay.axis(\"off\")\n",
    "fig_overlay.savefig(path_overlay_hexbins, bbox_inches=\"tight\", pad_inches=0)\n",
    "\n",
    "plt.show()"
   ]
  },
  {
   "cell_type": "markdown",
   "metadata": {},
   "source": [
    "# Merging income statistical data"
   ]
  },
  {
   "cell_type": "code",
   "execution_count": null,
   "metadata": {},
   "outputs": [],
   "source": [
    "df_nl_stats = pd.read_csv(path_stats)\n",
    "\n",
    "col_rename = {\n",
    "    \"GemiddeldInkomenPerInkomensontvanger_65\":\"avg_income_per_income_receiver\",\n",
    "    \"k_40PersonenMetLaagsteInkomen_67\":\"people_lowest_income\",\n",
    "    \"HuishOnderOfRondSociaalMinimum_73\":\"house_under_social_minimum\",\n",
    "    \"GemiddeldInkomenPerInwoner_66\":\"avg_income_per_people\",\n",
    "}\n",
    "# Change column name for join\n",
    "df_nl_stats = df_nl_stats.rename(columns=col_rename)\n",
    "\n",
    "\n",
    "df_nl_stats_buurt = df_nl_stats.rename(columns={\"WijkenEnBuurten\":\"BU_CODE\"})\n",
    "df_nl_stats_buurt = df_nl_stats_buurt[df_nl_stats_buurt['SoortRegio_2'].apply(lambda row:row.strip())==\"Buurt\"]\n",
    "\n",
    "df_nl_stats_wijk = df_nl_stats.rename(columns={\"WijkenEnBuurten\":\"WK_CODE\"})\n",
    "df_nl_stats_wijk = df_nl_stats_wijk[df_nl_stats_wijk['SoortRegio_2'].apply(lambda row:row.strip())==\"Wijk\"]\n",
    "\n",
    "df_nl_stats_wijk = df_nl_stats_wijk[list(col_rename.values())+[\"WK_CODE\"]]\n",
    "df_nl_stats_buurt = df_nl_stats_buurt[list(col_rename.values())+[\"BU_CODE\"]]\n",
    "\n",
    "# Remove invalid whitespaces\n",
    "for col in list(col_rename.values())+[\"WK_CODE\"]:\n",
    "    df_nl_stats_wijk[col] = df_nl_stats_wijk[col].apply(lambda row:row.strip())\n",
    "    df_nl_stats_wijk = df_nl_stats_wijk[df_nl_stats_wijk[col]!=\".\"]\n",
    "\n",
    "for col in list(col_rename.values())+[\"BU_CODE\"]:\n",
    "    df_nl_stats_buurt[col] = df_nl_stats_buurt[col].apply(lambda row:row.strip())\n",
    "    df_nl_stats_buurt = df_nl_stats_buurt[df_nl_stats_buurt[col]!=\".\"]"
   ]
  },
  {
   "cell_type": "code",
   "execution_count": null,
   "metadata": {},
   "outputs": [],
   "source": [
    "df_nl_stats"
   ]
  },
  {
   "cell_type": "code",
   "execution_count": null,
   "metadata": {},
   "outputs": [],
   "source": [
    "df_nl_stats[df_nl_stats[\"Gemeentenaam_1\"]==\"Rijswijk\"]"
   ]
  },
  {
   "cell_type": "code",
   "execution_count": null,
   "metadata": {},
   "outputs": [],
   "source": [
    "df_nl_stats_wijk"
   ]
  },
  {
   "cell_type": "code",
   "execution_count": null,
   "metadata": {},
   "outputs": [],
   "source": [
    "wijk_shp"
   ]
  },
  {
   "cell_type": "markdown",
   "metadata": {},
   "source": [
    "### Merging stats to districts"
   ]
  },
  {
   "cell_type": "code",
   "execution_count": null,
   "metadata": {},
   "outputs": [],
   "source": [
    "#color_column = \"house_under_social_minimum\"\n",
    "#color_column = \"people_lowest_income\"\n",
    "color_column = \"avg_income_per_people\"\n",
    "title = {\"avg_income_per_people\":\"Avg. income\"}\n",
    "wijk_shp_stats = pd.merge(wijk_shp, df_nl_stats_wijk, how=\"left\", on=\"WK_CODE\")\n",
    "wijk_shp_stats = wijk_shp_stats.astype({\n",
    "    \"avg_income_per_income_receiver\":float,\n",
    "    \"people_lowest_income\":float,\n",
    "    \"house_under_social_minimum\":float,\n",
    "    \"avg_income_per_people\":float\n",
    "})\n",
    "\n",
    "wijk_shp_stats"
   ]
  },
  {
   "cell_type": "code",
   "source": [
    "# Convert to geopandas again after changing types\n",
    "wijk_shp_stats = gpd.GeoDataFrame(wijk_shp_stats)\n",
    "fig, ax = plt.subplots(1,1,figsize=(15,15))\n",
    "divider = make_axes_locatable(ax)\n",
    "cax = divider.append_axes(\"right\", size=\"5%\", pad=0.1)\n",
    "wijk_shp_stats.plot(column=color_column, cmap=\"plasma\", ax=ax, legend=True, cax=cax)\n",
    "ax.set_title(f\"{title[color_column]}\", fontsize=36)\n",
    "ax.axis(\"off\")"
   ],
   "metadata": {
    "collapsed": false,
    "pycharm": {
     "name": "#%%\n"
    }
   },
   "execution_count": null,
   "outputs": []
  },
  {
   "cell_type": "code",
   "execution_count": null,
   "metadata": {},
   "outputs": [],
   "source": [
    "buurt_shp"
   ]
  },
  {
   "cell_type": "markdown",
   "metadata": {},
   "source": [
    "### Merging stats to neighborhoods"
   ]
  },
  {
   "cell_type": "code",
   "execution_count": null,
   "metadata": {},
   "outputs": [],
   "source": [
    "buurt_shp_stats = pd.merge(buurt_shp, df_nl_stats_buurt, how=\"left\", on=\"BU_CODE\")\n",
    "\n",
    "buurt_shp_stats = buurt_shp_stats.astype({\n",
    "    \"avg_income_per_income_receiver\":float,\n",
    "    \"people_lowest_income\":float,\n",
    "    \"house_under_social_minimum\":float,\n",
    "    \"avg_income_per_people\":float\n",
    "})\n",
    "buurt_shp_stats"
   ]
  },
  {
   "cell_type": "code",
   "execution_count": null,
   "metadata": {},
   "outputs": [],
   "source": [
    "# Convert to geopandas again after changing types\n",
    "buurt_shp_stats = gpd.GeoDataFrame(buurt_shp_stats)\n",
    "fig, ax = plt.subplots(1,1,figsize=(10,10))\n",
    "divider = make_axes_locatable(ax)\n",
    "cax = divider.append_axes(\"right\", size=\"5%\", pad=0.1)\n",
    "buurt_shp_stats.plot(column=color_column, cmap=\"plasma\", ax=ax, legend=True, cax=cax)\n",
    "ax.set_title(f\"{color_column}\")"
   ]
  },
  {
   "cell_type": "markdown",
   "metadata": {},
   "source": [
    "### Load bus stops"
   ]
  },
  {
   "cell_type": "code",
   "execution_count": null,
   "metadata": {},
   "outputs": [],
   "source": [
    "df_stops = pd.read_csv(path_stops)\n",
    "\n",
    "# Select focus city\n",
    "df_city = df_stops[df_stops[\"town\"]==city]\n",
    "\n",
    "print(\"Original with duplicated stations:\")\n",
    "df_city"
   ]
  },
  {
   "cell_type": "code",
   "execution_count": null,
   "metadata": {},
   "outputs": [],
   "source": [
    "df_city = df_city.drop_duplicates(\"name\")\n",
    "print(\"After dropping duplicate bus stops:\")\n",
    "df_city.sort_values(by=\"rd_x\")"
   ]
  },
  {
   "cell_type": "code",
   "execution_count": null,
   "metadata": {},
   "outputs": [],
   "source": [
    "# Create list of points\n",
    "geometry_stops = df_city.apply(lambda x:Point(x.longitude, x.latitude), axis=1)\n",
    "\n",
    "# Create geopandas df\n",
    "geo_stops = gpd.GeoDataFrame(df_city[[\"id\", \"name\", \"latitude\", \"longitude\"]], geometry=geometry_stops)\n",
    "geo_stops[\"name\"] = geo_stops[\"name\"].apply(\n",
    "    lambda x: x.replace('Rotterdam, ','')\n",
    ")\n",
    "\n",
    "geo_stops.crs = ('EPSG:4326')\n",
    "geo_stops.head(10)"
   ]
  },
  {
   "cell_type": "markdown",
   "metadata": {},
   "source": [
    "# Simulating demand"
   ]
  },
  {
   "cell_type": "markdown",
   "metadata": {},
   "source": [
    "Pickup probability is based on the relative population of districts and neighborhoods."
   ]
  },
  {
   "cell_type": "markdown",
   "metadata": {},
   "source": [
    "Save districts:"
   ]
  },
  {
   "cell_type": "code",
   "execution_count": null,
   "metadata": {},
   "outputs": [],
   "source": [
    "wijk_shp2 = wijk_shp.to_crs('EPSG:4326')\n",
    "wijk_shp2[\"AANT_INW_AVG\"] = wijk_shp2[\"AANT_INW\"]/sum(wijk_shp2[\"AANT_INW\"])\n",
    "wijk_shp2.sort_values(by=[\"WK_NAAM\"], inplace=True)\n",
    "wijk_shp2[[\n",
    "    \"WK_CODE\", \"WK_NAAM\", \"AANT_INW\", \"AANT_INW_AVG\", \"geometry\"\n",
    "]].rename(columns={\n",
    "    \"WK_CODE\":\"distr_code\",\n",
    "    \"WK_NAAM\":\"distr_name\",\n",
    "    \"AANT_INW\":\"n_resident\",\n",
    "    \"AANT_INW_AVG\":\"mean_resid\"}).to_file(path_shp_districts)\n",
    "wijk_shp2"
   ]
  },
  {
   "cell_type": "markdown",
   "metadata": {},
   "source": [
    "Save neighborhoods:"
   ]
  },
  {
   "cell_type": "code",
   "execution_count": null,
   "metadata": {},
   "outputs": [],
   "source": [
    "buurt_shp2 = buurt_shp.to_crs('EPSG:4326')\n",
    "buurt_shp2[\"AANT_INW_AVG\"] = buurt_shp2[\"AANT_INW\"]/sum(buurt_shp2[\"AANT_INW\"])\n",
    "buurt_shp2.sort_values(by=[\"WK_NAAM\"], inplace=True)\n",
    "buurt_shp2[[\n",
    "    \"WK_NAAM\", \"BU_NAAM\", \"BU_CODE\", \"AANT_INW\", \"AANT_INW_AVG\", \"geometry\"\n",
    "]].rename(columns={\n",
    "    \"BU_CODE\":\"neigh_code\",\n",
    "    \"WK_NAAM\":\"distr_name\",\n",
    "    \"BU_NAAM\":\"neigh_name\",\n",
    "    \"AANT_INW\":\"n_resident\",\n",
    "    \"AANT_INW_AVG\":\"mean_resid\"}).to_file(path_shp_neighborhoods)\n",
    "buurt_shp2"
   ]
  },
  {
   "cell_type": "code",
   "execution_count": null,
   "metadata": {},
   "outputs": [],
   "source": [
    "####################################################################\n",
    "##### Each stop belongs to a district and neighborhood #############\n",
    "####################################################################\n",
    "# Join districts to stops\n",
    "geo_stops = gpd.sjoin(geo_stops, wijk_shp2[[\"WK_NAAM\",\"geometry\"]], how=\"left\", op='within')\n",
    "geo_stops.drop(\"index_right\", axis=1,inplace=True)\n",
    "\n",
    "# Join neighborhoods to stops\n",
    "geo_stops = gpd.sjoin(geo_stops, buurt_shp2[[\"BU_NAAM\",\"geometry\"]], how=\"left\", op='within')\n",
    "geo_stops.drop(\"index_right\", axis=1,inplace=True)\n",
    "geo_stops.dropna(inplace=True)\n",
    "\n",
    "# Find the nearest node in G of each stop\n",
    "geo_stops[\"node_id\"] = geo_stops.apply(\n",
    "    lambda x:ox.get_nearest_node(\n",
    "        G,\n",
    "        (x.latitude, x.longitude),\n",
    "        method=\"haversine\"\n",
    "    ),\n",
    "    axis=1,\n",
    ")\n",
    "\n",
    "geo_stops.rename(columns={\"WK_NAAM\":\"district\", \"BU_NAAM\":\"neighborhood\"}).to_csv(path_bus_stops)\n",
    "geo_stops"
   ]
  },
  {
   "cell_type": "code",
   "execution_count": null,
   "metadata": {},
   "outputs": [],
   "source": [
    "geo_stops = geo_stops.drop_duplicates(\"node_id\")"
   ]
  },
  {
   "cell_type": "markdown",
   "metadata": {},
   "source": [
    "### Load train stations"
   ]
  },
  {
   "cell_type": "code",
   "execution_count": null,
   "metadata": {},
   "outputs": [],
   "source": [
    "df_stations = pd.read_csv(path_stations)\n",
    "geometry_stations = df_stations.apply(lambda x:Point(x.geo_lng, x.geo_lat), axis=1)\n",
    "geo_stations = gpd.GeoDataFrame(df_stations, geometry=geometry_stations)\n",
    "geo_stations.crs = ('EPSG:4326')\n",
    "\n",
    "# Join districts to stops\n",
    "geo_stations = gpd.sjoin(geo_stations, wijk_shp2[[\"WK_NAAM\",\"geometry\"]], how=\"left\", op='within')\n",
    "geo_stations.drop(\"index_right\", axis=1,inplace=True)\n",
    "\n",
    "# Join neighborhoods to stops\n",
    "geo_stations = gpd.sjoin(geo_stations, buurt_shp2[[\"BU_NAAM\",\"geometry\"]], how=\"left\", op='within')\n",
    "geo_stations.drop(\"index_right\", axis=1,inplace=True)\n",
    "geo_stations.dropna(inplace=True)\n",
    "\n",
    "# Add network id\n",
    "geo_stations[\"node_id\"] = geo_stations.apply(\n",
    "    lambda x:ox.get_nearest_node(\n",
    "        G,\n",
    "        (x.geo_lat, x.geo_lng),\n",
    "        method=\"haversine\"\n",
    "    ),\n",
    "    axis=1,\n",
    ")\n",
    "geo_stations.head(10)"
   ]
  },
  {
   "cell_type": "markdown",
   "metadata": {},
   "source": [
    "Plotting bus stops and train stations:"
   ]
  },
  {
   "cell_type": "code",
   "execution_count": null,
   "metadata": {},
   "outputs": [],
   "source": [
    "fig, ax = plt.subplots(1,1,figsize=(10,10))\n",
    "sns.set_context(\"paper\")\n",
    "sns.set_style(\"white\")\n",
    "buurt_shp2.to_crs('EPSG:28992').plot(ax=ax, color='white', edgecolor='black')\n",
    "geo_stops.to_crs('EPSG:28992').plot(ax=ax, label=\"Bus stops\", marker='o', alpha=0.5, color='white', edgecolor='red', linewidth=1, markersize=10)\n",
    "geo_stations.to_crs('EPSG:28992').plot(ax=ax, label=\"Train stations\", marker='o', color='black', linewidth=3, markersize=20)\n",
    "ax.legend()\n",
    "\n",
    "ax.set_title(f\"Bus stops and train stations in {city}\", fontsize=24)\n",
    "\n",
    "# Plot stations\n",
    "geo_stations.to_crs('EPSG:28992').apply(\n",
    "        lambda x: ax.annotate(\n",
    "            #s=f\"{x.korte_naam}\\n({x.type.replace('station','')})\",\n",
    "            s=f\"{x.naam.replace('Rotterdam','')}\",\n",
    "            xy=np.array(x.geometry.centroid.coords[0])+np.array([0, 300]),\n",
    "            ha='center',\n",
    "            bbox=dict(\n",
    "                facecolor='white',\n",
    "                edgecolor='black',\n",
    "                boxstyle='round,pad=0.4'\n",
    "            )\n",
    "        ),\n",
    "        axis=1\n",
    "    )\n",
    "ax.axis(\"off\")"
   ]
  },
  {
   "cell_type": "code",
   "execution_count": null,
   "metadata": {},
   "outputs": [],
   "source": [
    "wijk_shp"
   ]
  },
  {
   "cell_type": "code",
   "execution_count": null,
   "metadata": {},
   "outputs": [],
   "source": [
    "sns.set_context(\"paper\")\n",
    "sns.set_style(\"white\")\n",
    "\n",
    "colors = {\"n\":\"white\", \"z\": \"tomato\", \"rn\": \"lightskyblue\", \"s\":'black', \"street\":\"white\"}\n",
    "#colors = {\"n\":\"red\", \"z\": \"mistyrose\", \"rn\": \"aliceblue\", \"s\":'black'}\n",
    "\n",
    "# Plot street network projection\n",
    "fig_snet, ax_snet = ox.plot_graph(\n",
    "    G_proj,\n",
    "    fig_height=10,\n",
    "    #margin=0.2,\n",
    "    node_color=colors[\"street\"],\n",
    "    node_size=0,\n",
    "    edge_linewidth=0.5,\n",
    "    node_zorder=0,\n",
    "    edge_color=colors[\"street\"],\n",
    "    show=False,\n",
    "    close=False,\n",
    ")#, node_edgecolor='k', edge_color='#777777')\n",
    "plt.close()\n",
    "\n",
    "# Plot district boundaries\n",
    "# wijk_shp.geometry.boundary.plot(ax=ax_snet, color=colors[\"n\"], linewidth=4,zorder=-50)\n",
    "\n",
    "# Plot district boundaries\n",
    "buurt_shp.loc[buurt_shp[\"WK_NAAM\"].isin(zuid_districts)].plot(ax=ax_snet, color=colors[\"z\"], alpha=1, linewidth=0,zorder=-100)\n",
    "buurt_shp.loc[~buurt_shp[\"WK_NAAM\"].isin(zuid_districts)].plot(ax=ax_snet, color=colors[\"rn\"], alpha=1, linewidth=0,zorder=-100)\n",
    "\n",
    "# Plot stations\n",
    "geo_stations.to_crs('EPSG:28992').apply(\n",
    "        lambda x: ax_snet.annotate(\n",
    "            #s=f\"{x.korte_naam}\\n({x.type.replace('station','')})\",\n",
    "            s=f\"{x.naam.replace('Rotterdam ','')}\",\n",
    "            xy=np.array(x.geometry.centroid.coords[0])+np.array([0, 400]),\n",
    "            ha='center',\n",
    "            fontsize=16,\n",
    "            zorder=300,\n",
    "            bbox=dict(\n",
    "                facecolor='white',\n",
    "                edgecolor='black',\n",
    "                boxstyle='round,pad=0.2'\n",
    "            )\n",
    "        ),\n",
    "        axis=1\n",
    "    )\n",
    "ax.axis(\"off\")\n",
    "\n",
    "from matplotlib.lines import Line2D\n",
    "\n",
    "legend_elements = [\n",
    "    # Line2D([0], [0], color=colors[\"n\"], lw=4, label='Neighborhoods'),\n",
    "    Line2D([0], [0], marker='o', color=\"white\", markerfacecolor=colors[\"s\"], label='Train station', markersize=15, zorder=300), #markerfacecolor='g',,\n",
    "    Line2D([0], [0], marker='o', color=\"white\", markerfacecolor=colors[\"rn\"], label='Rotterdam Noord', markersize=15, zorder=300), #markerfacecolor='g',,\n",
    "    Line2D([0], [0], marker='o', color=\"white\", markerfacecolor=colors[\"z\"], label='Rotterdam Zuid', markersize=15, zorder=300), #markerfacecolor='g',,\n",
    "]\n",
    "\n",
    "ax2 = geo_stations.to_crs('EPSG:28992').plot(ax=ax_snet, zorder=200, label=\"b\", marker='o', edgecolor=\"white\", color=colors[\"s\"], linewidth=2, markersize=100)\n",
    "ax2.legend(handles=legend_elements, loc=(0.8, 1/2), fontsize=16, frameon=False)\n",
    "fig_snet.savefig(path_station_noord_zuid, bbox_inches=\"tight\", pad_inches=0)\n",
    "fig_snet"
   ]
  },
  {
   "cell_type": "code",
   "execution_count": null,
   "metadata": {},
   "outputs": [],
   "source": [
    "# Plot bus stops\n",
    "geo_stops.to_crs('EPSG:28992').apply(\n",
    "        lambda x: ax.annotate(\n",
    "            s=f\"{x['name'].replace('Rotterdam, ','')}\",\n",
    "            xy=np.array(x.geometry.centroid.coords[0])+np.array([0, 0.005]),\n",
    "            ha='center',\n",
    "        ),\n",
    "        axis=1\n",
    "    )\n",
    "\n",
    "ax.axis(\"off\")\n",
    "plt.show()"
   ]
  },
  {
   "cell_type": "markdown",
   "metadata": {},
   "source": [
    "## Find closest station to each node"
   ]
  },
  {
   "cell_type": "code",
   "execution_count": null,
   "metadata": {},
   "outputs": [],
   "source": [
    "# Copy of stations dataframe\n",
    "s = copy.deepcopy(geo_stations)\n",
    "\n",
    "def closest_station(node_id):\n",
    "    # Distance in km of node_id from station.node_id\n",
    "    s[\"dist\"] = s.apply(\n",
    "        lambda x:nx.dijkstra_path_length(\n",
    "            G,\n",
    "            source=node_id,\n",
    "            target=x.node_id,\n",
    "            weight=\"length\"\n",
    "        )/1000,\n",
    "        axis=1\n",
    "    )\n",
    "    \n",
    "    # Get the id of closest node\n",
    "    a = s[s[\"dist\"] == min(s[\"dist\"])]\n",
    "    \n",
    "    # Closest node and distance\n",
    "    return int(a.iloc[0][\"node_id\"]), a.iloc[0][\"dist\"]\n",
    "\n",
    "# Station node and distance to station\n",
    "df_geo2 = copy.deepcopy(geo_points_hex)\n",
    "df_geo2[[\"station_node\", \"dist_station_km\"]] = df_geo2.apply(\n",
    "    lambda x:closest_station(x.id),\n",
    "    axis=1,\n",
    "    result_type=\"expand\"\n",
    ")\n",
    "\n",
    "df_geo2[\"station_node\"] = df_geo2[\"station_node\"].astype(int)\n",
    "df_geo2.sort_values(by=[\"id\", \"hex_07\", \"hex_08\", \"hex_09\"], inplace=True)\n",
    "df_geo2[[\n",
    "    \"id\", \"lon\", \"lat\", \"WK_NAAM\", \"BU_NAAM\", \"station_node\", \"dist_station_km\",\n",
    "    \"hex_07\", \"hex_08\", \"hex_09\",\n",
    "    # \"centroid_07\", \"centroid_08\", \"centroid_09\",\n",
    "    \"centroid_node_07\", \"centroid_node_08\", \"centroid_node_09\",]\n",
    "].rename(columns={\"WK_NAAM\":\"district\", \"BU_NAAM\":\"neighborhood\"}).to_csv(path_node_station_hex, index=False)\n",
    "\n",
    "df_geo2"
   ]
  },
  {
   "cell_type": "markdown",
   "metadata": {},
   "source": [
    "## Population in districts and neighborhoods"
   ]
  },
  {
   "cell_type": "code",
   "execution_count": null,
   "metadata": {},
   "outputs": [],
   "source": [
    "buurt_shp[\"share_residents\"] = buurt_shp[\"AANT_INW\"]/sum(buurt_shp[\"AANT_INW\"])\n",
    "wijk_shp[\"share_residents\"] = wijk_shp[\"AANT_INW\"]/sum(wijk_shp[\"AANT_INW\"])"
   ]
  },
  {
   "cell_type": "code",
   "execution_count": null,
   "metadata": {
    "pycharm": {
     "name": "#%%\n"
    }
   },
   "outputs": [],
   "source": [
    "from mpl_toolkits.axes_grid1 import make_axes_locatable\n",
    "fig_w, ax_w = plt.subplots(1, 1, figsize=(20, 20))\n",
    "\n",
    "sns.set_style(\"white\")\n",
    "sns.set_context(\"paper\")\n",
    "\n",
    "\n",
    "# Color based on\n",
    "color_column = \"share_residents\"\n",
    "# Setup population bar from districts\n",
    "divider1 = make_axes_locatable(ax_w)\n",
    "cax1 = divider1.append_axes(\"right\", size=\"2%\", pad=0.1)\n",
    "\n",
    "print(\"MAX\", max(wijk_shp[color_column]))\n",
    "wijk_shp.plot(column=color_column, cmap=\"viridis\",  vmin=0, vmax=0.17, ax=ax_w, legend=True, cax=cax1)\n",
    "ax_w.axis(\"off\")\n",
    "ax_w.set_title(\"Number of residents (districts)\", fontsize=28)\n",
    "\n",
    "\n",
    "# Annotate district names\n",
    "_ = wijk_shp.apply(\n",
    "        lambda x: ax_w.annotate(\n",
    "            s=x.WK_NAAM,\n",
    "            xy=x.geometry.centroid.coords[0],\n",
    "            ha='center',\n",
    "            bbox=dict(\n",
    "                facecolor='white',\n",
    "                edgecolor='black',\n",
    "                boxstyle='round,pad=1'\n",
    "            )\n",
    "        ),\n",
    "        axis=1\n",
    "    )\n",
    "\n",
    "# Annotate neighborhood names\n",
    "# _ = buurt_shp.apply(\n",
    "#         lambda x: ax[1].annotate(\n",
    "#             s=x.BU_NAAM,\n",
    "#             xy=x.geometry.centroid.coords[0],\n",
    "#             ha='center',\n",
    "#             bbox=dict(\n",
    "#                 facecolor='white',\n",
    "#                 edgecolor='black',\n",
    "#                 boxstyle='round,pad=0.2'\n",
    "#             )\n",
    "#         ),\n",
    "#         axis=1\n",
    "#     )\n",
    "\n",
    "\n",
    "fig_res, ax_res = plt.subplots(1, 1, figsize=(10, 10))\n",
    "\n",
    "# Setup population bar from neighborhoods\n",
    "print(\"MAX:\", max(buurt_shp[color_column]))\n",
    "divider2 = make_axes_locatable(ax_res)\n",
    "cax2 = divider2.append_axes(\"right\", size=\"2%\", pad=0.1)\n",
    "buurt_shp.plot(column=color_column, cmap=\"viridis\", edgecolor=\"black\", legend=True, vmin=0, vmax=0.05, ax=ax_res, cax=cax2) # for grayscale use: cmap=binary\n",
    "\n",
    "\n",
    "ax_res.axis(\"off\")\n",
    "#ax[1].set_title(\"Number of residents (neighborhoods)\", fontsize=28)\n",
    "\n",
    "\n",
    "fig_res.savefig(path_img_residents, bbox_inches=\"tight\", pad_inches=0)"
   ]
  }
 ],
 "metadata": {
  "kernelspec": {
   "name": "python37664bitenvslevelsconda0fcbcdd2fdaa4d328ecf1cbcb199e13d",
   "language": "python",
   "display_name": "Python 3.7.6 64-bit ('env_slevels': conda)"
  },
  "language_info": {
   "codemirror_mode": {
    "name": "ipython",
    "version": 3
   },
   "file_extension": ".py",
   "mimetype": "text/x-python",
   "name": "python",
   "nbconvert_exporter": "python",
   "pygments_lexer": "ipython3",
   "version": "3.7.6"
  }
 },
 "nbformat": 4,
 "nbformat_minor": 4
}